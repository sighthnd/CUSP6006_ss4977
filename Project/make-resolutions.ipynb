{
 "cells": [
  {
   "cell_type": "code",
   "execution_count": 1,
   "metadata": {
    "collapsed": true
   },
   "outputs": [],
   "source": [
    "import pandas as pd\n",
    "import shapely\n",
    "import geopandas as gp\n",
    "import json"
   ]
  },
  {
   "cell_type": "code",
   "execution_count": 2,
   "metadata": {
    "collapsed": true
   },
   "outputs": [],
   "source": [
    "layers = {}\n",
    "layers[\"Borough\"] = gp.GeoDataFrame.from_file(\"Borough Boundaries.geojson\")\n",
    "layers[\"Community\"] = gp.GeoDataFrame.from_file(\"Community Districts.geojson\")\n",
    "layers[\"NTA\"] = gp.GeoDataFrame.from_file(\"Neighborhood Tabulation Areas.geojson\")\n",
    "layers[\"Tract\"] = gp.GeoDataFrame.from_file(\"2010 Census Tracts.geojson\")\n",
    "list = layers.keys()"
   ]
  },
  {
   "cell_type": "code",
   "execution_count": 34,
   "metadata": {
    "collapsed": false
   },
   "outputs": [],
   "source": [
    "# In order to make the site load quicker, it is\n",
    "# necessary to be able to push only those features\n",
    "# which are within the display area and to have\n",
    "# lower resolution layers for when the display is\n",
    "# a larger area.\n",
    "\n",
    "# If geopandas was on PythonAnywhere, it would not\n",
    "# be necessary to create these in advance. However,\n",
    "# since it is not included by default, and I do not\n",
    "# have disk space there, this is a needed workaround.\n",
    "proj = {}\n",
    "for cov in list:\n",
    "    proj[cov] = layers[cov].to_crs(epsg=2263)\n",
    "    envel = proj[cov].geometry.envelope\n",
    "    enveljs = json.loads(envel.to_json())\n",
    "    # An envelope field cannot be converted directly to\n",
    "    # json, so create fields for the corners of the\n",
    "    # envelope and add those\n",
    "    # This will allow measuring the extent of what is displayed\n",
    "    # and testing if a feature has any overlap with it.\n",
    "    bounds = [[enveljs['features'][i]['bbox'][j] for i in range(len(enveljs['features']))] for j in range(4)]\n",
    "    proj[cov]['minx'] = bounds[0]\n",
    "    proj[cov]['miny'] = bounds[1]\n",
    "    proj[cov]['maxx'] = bounds[2]\n",
    "    proj[cov]['maxy'] = bounds[3]\n",
    "    for res in [10, 20, 50, 100, 200, 400, 800]:\n",
    "        scov = \"{:s}{:d}\".format(cov, res)\n",
    "        proj[scov] = proj[cov]\n",
    "        proj[scov].geometry = proj[cov].geometry.simplify(res)\n",
    "        js = proj[scov].to_json()\n",
    "        with open('resolutions/{}.geojson'.format(scov), 'w') as out:\n",
    "            json.dump(js, out)"
   ]
  },
  {
   "cell_type": "code",
   "execution_count": null,
   "metadata": {
    "collapsed": true
   },
   "outputs": [],
   "source": []
  }
 ],
 "metadata": {
  "anaconda-cloud": {},
  "kernelspec": {
   "display_name": "Python [conda root]",
   "language": "python",
   "name": "conda-root-py"
  },
  "language_info": {
   "codemirror_mode": {
    "name": "ipython",
    "version": 2
   },
   "file_extension": ".py",
   "mimetype": "text/x-python",
   "name": "python",
   "nbconvert_exporter": "python",
   "pygments_lexer": "ipython2",
   "version": "2.7.12"
  }
 },
 "nbformat": 4,
 "nbformat_minor": 1
}
