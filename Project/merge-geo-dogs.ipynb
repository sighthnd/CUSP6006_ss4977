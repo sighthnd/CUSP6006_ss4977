{
 "cells": [
  {
   "cell_type": "code",
   "execution_count": 2,
   "metadata": {
    "collapsed": true
   },
   "outputs": [],
   "source": [
    "import pandas as pd\n",
    "import shapely\n",
    "import geopandas as gp\n",
    "import json"
   ]
  },
  {
   "cell_type": "code",
   "execution_count": 3,
   "metadata": {
    "collapsed": true
   },
   "outputs": [],
   "source": [
    "layers = {}\n",
    "layers[\"Borough\"] = gp.GeoDataFrame.from_file(\"Borough Boundaries.geojson\")\n",
    "layers[\"Community\"] = gp.GeoDataFrame.from_file(\"Community Districts.geojson\")\n",
    "layers[\"NTA\"] = gp.GeoDataFrame.from_file(\"Neighborhood Tabulation Areas.geojson\")\n",
    "layers[\"Tract\"] = gp.GeoDataFrame.from_file(\"2010 Census Tracts.geojson\")\n",
    "list = layers.keys()"
   ]
  },
  {
   "cell_type": "code",
   "execution_count": 4,
   "metadata": {
    "collapsed": false
   },
   "outputs": [],
   "source": [
    "for cov in list:\n",
    "    envel = layers[cov].geometry.envelope\n",
    "    enveljs = json.loads(envel.to_json())\n",
    "    # An envelope field cannot be converted directly to\n",
    "    # json, so create fields for the corners of the\n",
    "    # envelope and add those\n",
    "    # This will allow measuring the extent of what is displayed\n",
    "    # and testing if a feature has any overlap with it.\n",
    "    bounds = [[enveljs['features'][i]['bbox'][j] for i in range(len(enveljs['features']))] for j in range(4)]\n",
    "    layers[cov]['minx'] = bounds[0]\n",
    "    layers[cov]['miny'] = bounds[1]\n",
    "    layers[cov]['maxx'] = bounds[2]\n",
    "    layers[cov]['maxy'] = bounds[3]"
   ]
  },
  {
   "cell_type": "code",
   "execution_count": 5,
   "metadata": {
    "collapsed": false
   },
   "outputs": [],
   "source": [
    "dogs = pd.read_csv(\"NYC_Dog_Licensing_Dataset.csv\", sep=';')\n",
    "# Go through every combination of community district and tract and assign a correct tract id\n",
    "small = dogs[['CommunityDistrict','boro_tract1','boro_tract2']].drop_duplicates().to_dict()"
   ]
  },
  {
   "cell_type": "code",
   "execution_count": 7,
   "metadata": {
    "collapsed": false
   },
   "outputs": [],
   "source": [
    "def overlap(b1, b2):\n",
    "    # Test whether b2's envelope has any point inside b1's envelope\n",
    "    if (((b2[0] > b1[0] and b2[0] < b1[2]) or (b2[2] > b1[0] and b2[2] < b1[2])) and \n",
    "        ((b2[1] > b1[1] and b2[1] < b1[3]) or (b2[3] > b1[1] and b2[3] < b1[3]))):\n",
    "        return 1\n",
    "    else:\n",
    "        return 0\n",
    "\n",
    "def compare_geos(comm, tr1, tr2):\n",
    "    # If both tr1 and tr2 exist, check if one and not the other has any overlap\n",
    "    # with comm\n",
    "    box = layers[\"Community\"][layers[\"Community\"][\"boro_cd\"] == str(comm)].geometry.envelope\n",
    "    cbox = json.loads(box.to_json())\n",
    "    over = []\n",
    "    for tr in tr1, tr2:\n",
    "        box = layers[\"Tract\"][layers[\"Tract\"][\"boro_ct2010\"] == str(tr)].geometry.envelope\n",
    "        tbox = json.loads(box.to_json())\n",
    "        if overlap(cbox['bbox'], tbox['bbox']):\n",
    "            over.append(1)\n",
    "        else:\n",
    "            over.append(0)\n",
    "    return over\n",
    "            \n",
    "small['boro_ct2010'] = {}\n",
    "for i in small['boro_tract1'].keys():\n",
    "    # Start by checking if one value for tract exists but not the other\n",
    "    chk1 = layers[\"Tract\"][layers[\"Tract\"]['boro_ct2010'] == str(small['boro_tract1'][i])]\n",
    "    chk2 = layers[\"Tract\"][layers[\"Tract\"]['boro_ct2010'] == str(small['boro_tract2'][i])]\n",
    "    if chk1.shape[0] == 1 and chk2.shape[0] == 0:\n",
    "        small['boro_ct2010'][i] = str(small['boro_tract1'][i])\n",
    "    elif chk1.shape[0] == 0 and chk2.shape[0] == 1:\n",
    "        small['boro_ct2010'][i] = str(small['boro_tract2'][i])\n",
    "    elif chk1.shape[0] == 1 and chk2.shape[0] == 1:\n",
    "        # if both exist, check by geography\n",
    "        if small['boro_tract1'][i] == small['boro_tract2'][i]:\n",
    "            small['boro_ct2010'][i] = str(small['boro_tract1'][i])\n",
    "        else:\n",
    "            trInComm = compare_geos(small['CommunityDistrict'][i],\n",
    "                                    small['boro_tract1'][i], small['boro_tract2'][i])\n",
    "            if trInComm[0] == 1 and trInComm[1] == 0:\n",
    "                small['boro_ct2010'][i] = str(small['boro_tract1'][i])\n",
    "            elif trInComm[0] == 0 and trInComm[1] == 1:\n",
    "                small['boro_ct2010'][i] = str(small['boro_tract2'][i])\n",
    "            else:\n",
    "                small['boro_ct2010'][i] = '0000000'\n",
    "    else:\n",
    "        # didn't happen :)\n",
    "        small['boro_ct2010'][i] = '0000000'"
   ]
  },
  {
   "cell_type": "code",
   "execution_count": 8,
   "metadata": {
    "collapsed": false
   },
   "outputs": [
    {
     "data": {
      "text/plain": [
       "(46, 4)"
      ]
     },
     "execution_count": 8,
     "metadata": {},
     "output_type": "execute_result"
    }
   ],
   "source": [
    "# implement the process\n",
    "fix_tracts = pd.DataFrame.from_dict(small)\n",
    "fix_tracts.boro_ct2010 = fix_tracts.boro_ct2010.astype(str)\n",
    "fix_tracts.boro_tract1 = fix_tracts.boro_tract1.astype(str)\n",
    "fix_tracts.boro_tract2 = fix_tracts.boro_tract2.astype(str)\n",
    "fix_tracts[(fix_tracts.boro_ct2010 == fix_tracts.boro_tract2) &\n",
    "           (fix_tracts.boro_ct2010 != fix_tracts.boro_tract1)].shape"
   ]
  },
  {
   "cell_type": "code",
   "execution_count": 9,
   "metadata": {
    "collapsed": true
   },
   "outputs": [],
   "source": [
    "dogs.CommunityDistrict = dogs.CommunityDistrict.astype(str)\n",
    "dogs.boro_tract1 = dogs.boro_tract1.astype(str)\n",
    "dogs.boro_tract2 = dogs.boro_tract2.astype(str)\n",
    "# Most records are of the variety 501 === 050100 rather than 501 === 000501\n",
    "# so first set all of them that way, then go through the exceptions\n",
    "dogs['boro_ct2010'] = dogs.boro_tract1\n",
    "# get the list of where the tract is of variety 501 === 000501\n",
    "use_tract2 = fix_tracts[(fix_tracts.boro_ct2010 == fix_tracts.boro_tract2) &\n",
    "                        (fix_tracts.boro_ct2010 != fix_tracts.boro_tract1)]\n",
    "# iterate through that list and set the tract field for those community/tract combos\n",
    "for ind, row in use_tract2.iterrows():\n",
    "    dogs.loc[(dogs.CommunityDistrict == row['CommunityDistrict']) &\n",
    "             (dogs.boro_tract2 == row['boro_tract2']), 'boro_ct2010'] = dogs.boro_tract2"
   ]
  },
  {
   "cell_type": "code",
   "execution_count": 10,
   "metadata": {
    "collapsed": false
   },
   "outputs": [],
   "source": [
    "boroughs = {\"1\" : \"Manhattan\", \"2\" : \"Bronx\", \"3\" : \"Brooklyn\",\n",
    "            \"4\" : \"Queens\", \"5\": \"Staten Island\"}\n",
    "# Set the borough name to a consistent value within each borough\n",
    "for i in '1', '2', '3', '4', '5':\n",
    "    dogs.loc[dogs.boro_ct2010.str[0] == i, 'Borough'] = boroughs[i]"
   ]
  },
  {
   "cell_type": "code",
   "execution_count": 11,
   "metadata": {
    "collapsed": false
   },
   "outputs": [],
   "source": [
    "# Aggregate the number of dogs within each geographic unit\n",
    "aggdogs = {}\n",
    "aggdogs['Borough'] = dogs.groupby('Borough').size()\n",
    "aggdogs['Community'] = dogs.groupby('CommunityDistrict').size()\n",
    "aggdogs['NTA'] = dogs.groupby('NTA').size()\n",
    "aggdogs['Tract'] = dogs.groupby('boro_ct2010').size()\n",
    "for k in list:\n",
    "    aggdogs[k] = aggdogs[k].to_frame().rename(index=str, columns={0: 'numdogs'})"
   ]
  },
  {
   "cell_type": "code",
   "execution_count": 12,
   "metadata": {
    "collapsed": false
   },
   "outputs": [],
   "source": [
    "layer_cols = {'Borough': 'boro_name', 'Community': 'boro_cd',\n",
    "              'NTA': 'ntacode', 'Tract': 'boro_ct2010'}\n",
    "# Merge the aggregated number into the geocoverage for each geography\n",
    "# and then export as a geojson\n",
    "for cov in list:\n",
    "    layers[cov][layer_cols[cov]] = layers[cov][layer_cols[cov]].astype(str)\n",
    "    mrg = pd.merge(layers[cov], aggdogs[cov], how='left', left_on=layer_cols[cov], right_index=True)\n",
    "    mrg['numdogs'].fillna(0, inplace=True)\n",
    "    mrg.numdogs = mrg.numdogs.astype(int)\n",
    "    js = mrg.to_json()\n",
    "    fh = open('data/{}.geojson'.format(cov), 'w')\n",
    "    fh.write(js)\n"
   ]
  },
  {
   "cell_type": "code",
   "execution_count": null,
   "metadata": {
    "collapsed": true
   },
   "outputs": [],
   "source": []
  }
 ],
 "metadata": {
  "anaconda-cloud": {},
  "kernelspec": {
   "display_name": "Python [conda root]",
   "language": "python",
   "name": "conda-root-py"
  },
  "language_info": {
   "codemirror_mode": {
    "name": "ipython",
    "version": 2
   },
   "file_extension": ".py",
   "mimetype": "text/x-python",
   "name": "python",
   "nbconvert_exporter": "python",
   "pygments_lexer": "ipython2",
   "version": "2.7.12"
  }
 },
 "nbformat": 4,
 "nbformat_minor": 1
}
